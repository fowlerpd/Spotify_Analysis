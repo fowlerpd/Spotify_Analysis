{
 "cells": [
  {
   "cell_type": "code",
   "execution_count": null,
   "metadata": {
    "collapsed": true
   },
   "outputs": [],
   "source": [
    "import requests\n",
    "import pandas as pd\n",
    "import numpy as np\n",
    "import time"
   ]
  },
  {
   "cell_type": "code",
   "execution_count": null,
   "metadata": {
    "collapsed": true
   },
   "outputs": [],
   "source": [
    "client_id = 'f27c77771539459a82c5ddd31aa5057a'\n",
    "client_secret = 'c3c33ffcc486431e87282f3c5c49e347'\n",
    "grant_type = 'client_credentials'\n",
    "body_params = {'grant_type' : grant_type}\n",
    "col = ['album name','album id','popularity','track name','track id','explicit','artist name','artist id']\n",
    "col2 = ['track id','danceability','energy','key','loudness','mode','speechiness','acousticness','instrumentalness','liveness',\n",
    "       'valence','tempo','duration_ms','time_signature']"
   ]
  },
  {
   "cell_type": "code",
   "execution_count": null,
   "metadata": {
    "collapsed": true
   },
   "outputs": [],
   "source": [
    "def get_token():\n",
    "    url_token ='https://accounts.spotify.com/api/token'\n",
    "    response_auth = requests.post(url_token, data=body_params, auth = (client_id, client_secret)).json() \n",
    "    return response_auth[\"access_token\"]\n",
    "\n",
    "def search_tracks(year, lim, offset, token):\n",
    "    search_type = 'track'\n",
    "    url = 'https://api.spotify.com/v1/search?q=year:'+ year +'&type=' + search_type +'&limit=' + lim +'&offset='+ offset\n",
    "    headers = {'Authorization': \"Bearer {}\".format(token)}\n",
    "    r = requests.get(url, headers=headers)\n",
    "    return r.json()\n",
    "\n",
    "def extract_track_info(uncleaned):\n",
    "    track_data = []\n",
    "    for i in uncleaned: \n",
    "        if i['id'] not in song_ids:\n",
    "            song_ids.append(i['id'])\n",
    "            dat = [i['album']['name'],\n",
    "                         i['album']['id'],\n",
    "                         i['popularity'],\n",
    "                         i['name'],\n",
    "                         i['id'],\n",
    "                         i['explicit'],\n",
    "                         i['artists'][0]['name'],\n",
    "                         i['artists'][0]['id']]\n",
    "            track_data.append(dat)\n",
    "    return track_data\n",
    "\n",
    "def query_track_analysis(song_ids, token):\n",
    "    url = 'https://api.spotify.com/v1/audio-features?ids=' + ','.join(song_ids)\n",
    "    headers = {'Authorization': \"Bearer {}\".format(token)}\n",
    "    r = requests.get(url, headers=headers)\n",
    "    return r.json()\n",
    "\n",
    "\n",
    "def extract_audio_features(song_data_raw):\n",
    "    audio_features = song_data_raw['audio_features']\n",
    "    audio_features_list = []\n",
    "    for i in audio_features:\n",
    "        if i != None:\n",
    "            audio_dat = [i['id'],\n",
    "                        i['danceability'],\n",
    "                        i['energy'],\n",
    "                        i['key'],\n",
    "                        i['loudness'],\n",
    "                        i['mode'],\n",
    "                        i['speechiness'],\n",
    "                        i['acousticness'],\n",
    "                        i['instrumentalness'],\n",
    "                        i['liveness'],\n",
    "                        i['valence'],\n",
    "                        i['tempo'],\n",
    "                        i['duration_ms'],\n",
    "                        i['time_signature']]\n",
    "            audio_features_list.append(audio_dat)\n",
    "    return audio_features_list"
   ]
  },
  {
   "cell_type": "code",
   "execution_count": null,
   "metadata": {
    "collapsed": false
   },
   "outputs": [],
   "source": [
    "years = list(range(2017,1991,-1))\n",
    "years = list(map(str, years))\n",
    "print(years)\n",
    "num_tracks = 50000\n",
    "lim = '50'\n",
    "for year in years:  \n",
    "    offset = 0\n",
    "    token = get_token()\n",
    "    song_ids = []\n",
    "    all_track_data = []\n",
    "    all_audio_features = []\n",
    "    while len(all_track_data) < num_tracks: \n",
    "        ###get the raw track data and clean it\n",
    "        data_raw = search_tracks(year,lim, str(offset),token)\n",
    "        track_data_raw = data_raw['tracks']['items']\n",
    "        track_data = extract_track_info(track_data_raw)\n",
    "        all_track_data = all_track_data + track_data\n",
    "        \n",
    "        ids = [i[4] for i in track_data]\n",
    "        song_data_raw = query_track_analysis(ids,token)\n",
    "        audio_features = extract_audio_features(song_data_raw)\n",
    "        all_audio_features = all_audio_features  + audio_features\n",
    "        \n",
    "        offset += 50\n",
    "        if offset % 10000 == 0:\n",
    "            print(offset)\n",
    "    \n",
    "    df1 = pd.DataFrame(all_track_data, columns = col)\n",
    "    df2 = pd.DataFrame(all_audio_features, columns = col2)\n",
    "    df = df1.merge(df2, on='track id', how = 'outer')\n",
    "    df.to_csv('top_tracks_%s.csv' %year)\n",
    "    \n",
    "    "
   ]
  },
  {
   "cell_type": "code",
   "execution_count": null,
   "metadata": {
    "collapsed": true
   },
   "outputs": [],
   "source": [
    "col3 = ['artist id','artist popularity','artist genre']\n",
    "\n",
    "def query_artists(artist_ids, token):\n",
    "    url = 'https://api.spotify.com/v1/artists?ids=' + ','.join(artist_ids)\n",
    "    headers = {'Authorization': \"Bearer {}\".format(token)}\n",
    "    r = requests.get(url, headers=headers)\n",
    "    return r.json()\n",
    "\n",
    "def extract_artist_features(raw_artist_data):\n",
    "    artist_data = raw_artist_data['artists']\n",
    "    artist_data_list = []\n",
    "    for i in artist_data:\n",
    "        if i != None:\n",
    "            artist_dat = [i['id'],\n",
    "                        i['popularity'],\n",
    "                        i['genres']]\n",
    "            artist_data_list.append(artist_dat)\n",
    "    return artist_data_list\n",
    "\n",
    "\n",
    "\n"
   ]
  },
  {
   "cell_type": "code",
   "execution_count": null,
   "metadata": {
    "collapsed": false
   },
   "outputs": [],
   "source": [
    "years = list(range(2017,1991,-1))\n",
    "years = list(map(str, years))\n",
    "print(years)\n",
    "for year in years:\n",
    "    df = pd.read_csv('top_tracks_%s.csv' %year)\n",
    "    #df = df.head(n=100)\n",
    "    all_artist_ids = df['artist id'].tolist()\n",
    "    all_artist_data = []\n",
    "    token = get_token()\n",
    "    print(year)\n",
    "    for i in range(0, len(all_artist_ids), 50):\n",
    "        artist_slice = all_artist_ids[i:i+50]\n",
    "        raw_artist_data = query_artists(artist_slice,token)\n",
    "        artist_data = extract_artist_features(raw_artist_data)\n",
    "        all_artist_data = all_artist_data + artist_data\n",
    "        if i % 10000 == 0:\n",
    "            print(i)\n",
    "\n",
    "    df = pd.DataFrame(all_artist_data, columns = col3)\n",
    "    df.to_csv('artists_%s.csv' %year)\n",
    "    \n",
    "    \n",
    "    "
   ]
  },
  {
   "cell_type": "code",
   "execution_count": null,
   "metadata": {
    "collapsed": false
   },
   "outputs": [],
   "source": [
    "col4 = ['album id','album popularity','album genre','release date','label']\n",
    "token = get_token()\n",
    "def query_albums(album_ids, token):\n",
    "    url = 'https://api.spotify.com/v1/albums?ids=' + ','.join(album_ids)\n",
    "    headers = {'Authorization': \"Bearer {}\".format(token)}\n",
    "    r = requests.get(url, headers=headers)\n",
    "    return r.json()\n",
    "\n",
    "def extract_album_features(raw_album_data):\n",
    "    album_data = raw_album_data['albums']\n",
    "    album_data_list = []\n",
    "    for i in album_data:\n",
    "        if i != None:\n",
    "            album_dat = [i['id'],\n",
    "                        i['popularity'],\n",
    "                        i['genres'],\n",
    "                        i['release_date'],\n",
    "                        i['label']]\n",
    "            album_data_list.append(album_dat)\n",
    "    return album_data_list\n",
    "\n"
   ]
  },
  {
   "cell_type": "code",
   "execution_count": null,
   "metadata": {
    "collapsed": false
   },
   "outputs": [],
   "source": [
    "years = list(range(2017,1991,-1))\n",
    "years = list(map(str, years))\n",
    "print(years)\n",
    "for year in years:\n",
    "    df = pd.read_csv('top_tracks_%s.csv' %year)\n",
    "    #df = df.head(n=10)\n",
    "    all_album_ids = df['album id'].tolist()\n",
    "    print(len(all_album_ids))\n",
    "    all_album_ids = list(set(all_album_ids))\n",
    "    print(len(all_album_ids))\n",
    "    all_album_data = []\n",
    "    token = get_token()\n",
    "    print(year)\n",
    "    for i in range(0, len(all_album_ids), 20):\n",
    "        album_slice = all_album_ids[i:i+20]\n",
    "        raw_album_data = query_albums(album_slice,token)\n",
    "        album_data = extract_album_features(raw_album_data)\n",
    "        all_album_data = all_album_data + album_data\n",
    "        #time.sleep(0.05)\n",
    "        if i % 10000 == 0:\n",
    "            print(i)\n",
    "    df = pd.DataFrame(all_album_data, columns = col4)\n",
    "    df.to_csv('albums_%s.csv' %year)\n",
    "    \n"
   ]
  },
  {
   "cell_type": "code",
   "execution_count": null,
   "metadata": {
    "collapsed": false
   },
   "outputs": [],
   "source": [
    "years = list(range(2017,1991,-1))\n",
    "years = list(map(str, years))\n",
    "df_master = pd.DataFrame()\n",
    "for year in years:\n",
    "    df1 = pd.read_csv('data_scraped/top_tracks_%s.csv' %year)\n",
    "    df2 = pd.read_csv('data_scraped/artists_%s.csv' %year)\n",
    "    df3 = pd.read_csv('data_scraped/albums_%s.csv' %year)\n",
    "\n",
    "    df1 = df1.rename(columns={'Unnamed: 0': 'idx'})\n",
    "    df2 = df2.drop('Unnamed: 0', axis=1)\n",
    "    df3 = df3.drop(['Unnamed: 0','album genre'], axis=1)\n",
    "    #df3['release date'] = pd.to_datetime(df3['release date'])\n",
    "    df2 = df2.drop_duplicates(subset=['artist id'])\n",
    "    df3 = df3.drop_duplicates(subset=['album id'])\n",
    "    \n",
    "    df = df1.merge(df2, on = 'artist id' ,how='outer').merge(df3, on='album id', how='outer')\n",
    "    df = df.sort_values(by='idx')\n",
    "    print(df.shape)\n",
    "   \n",
    "    df_master = pd.concat([df_master, df])\n",
    "    \n",
    "    df.to_csv('data_master/all_data_%s.csv' %year)\n",
    "\n",
    "df_master.to_csv('data_master/all_data_total.csv')"
   ]
  },
  {
   "cell_type": "code",
   "execution_count": null,
   "metadata": {
    "collapsed": false
   },
   "outputs": [],
   "source": []
  },
  {
   "cell_type": "code",
   "execution_count": null,
   "metadata": {
    "collapsed": true
   },
   "outputs": [],
   "source": []
  }
 ],
 "metadata": {
  "anaconda-cloud": {},
  "kernelspec": {
   "display_name": "Python [conda root]",
   "language": "python",
   "name": "conda-root-py"
  },
  "language_info": {
   "codemirror_mode": {
    "name": "ipython",
    "version": 3
   },
   "file_extension": ".py",
   "mimetype": "text/x-python",
   "name": "python",
   "nbconvert_exporter": "python",
   "pygments_lexer": "ipython3",
   "version": "3.5.2"
  }
 },
 "nbformat": 4,
 "nbformat_minor": 1
}
